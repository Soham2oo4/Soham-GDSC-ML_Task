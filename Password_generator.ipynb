{
 "cells": [
  {
   "cell_type": "code",
   "execution_count": 6,
   "id": "296d445a-06f0-41b6-b935-3abdb83d06d1",
   "metadata": {},
   "outputs": [
    {
     "name": "stdin",
     "output_type": "stream",
     "text": [
      "Length of the password:  4\n",
      "Do you want to make the password complex? Press 'y' for yes and 'n' for no:  y\n"
     ]
    },
    {
     "name": "stdout",
     "output_type": "stream",
     "text": [
      "E+7L\n"
     ]
    }
   ],
   "source": [
    "import string\n",
    "import random\n",
    "\n",
    "N = int(input(\"Length of the password: \"))\n",
    "complexity = input(\"Do you want to make the password complex? Press 'y' for yes and 'n' for no: \")\n",
    "\n",
    "if complexity == \"y\":\n",
    "    res = ''.join(random.choices(string.ascii_letters + string.digits + string.punctuation, k=N))\n",
    "    print(res)\n",
    "elif complexity == \"n\":\n",
    "    res = ''.join(random.choices(string.ascii_letters + string.digits, k=N))\n",
    "    print(res)\n",
    "else:\n",
    "    print(\"Invalid choice. Please enter 'y' or 'n'.\")\n"
   ]
  },
  {
   "cell_type": "code",
   "execution_count": null,
   "id": "184e3c2d-0486-4ebc-8f1c-9ccd3a394475",
   "metadata": {},
   "outputs": [],
   "source": []
  }
 ],
 "metadata": {
  "kernelspec": {
   "display_name": "Python 3 (ipykernel)",
   "language": "python",
   "name": "python3"
  },
  "language_info": {
   "codemirror_mode": {
    "name": "ipython",
    "version": 3
   },
   "file_extension": ".py",
   "mimetype": "text/x-python",
   "name": "python",
   "nbconvert_exporter": "python",
   "pygments_lexer": "ipython3",
   "version": "3.11.4"
  }
 },
 "nbformat": 4,
 "nbformat_minor": 5
}
