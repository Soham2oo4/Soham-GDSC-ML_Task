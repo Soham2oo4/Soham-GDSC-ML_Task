{
 "cells": [
  {
   "cell_type": "code",
   "execution_count": 1,
   "id": "2412e700-68e4-417b-bfda-ee7eb8c212fc",
   "metadata": {},
   "outputs": [
    {
     "name": "stdin",
     "output_type": "stream",
     "text": [
      "Enter an expression (or 'exit' to quit):  3+5-9/3*4\n"
     ]
    },
    {
     "name": "stdout",
     "output_type": "stream",
     "text": [
      "Result: -4.0\n"
     ]
    },
    {
     "name": "stdin",
     "output_type": "stream",
     "text": [
      "Enter an expression (or 'exit' to quit):  exit\n"
     ]
    },
    {
     "name": "stdout",
     "output_type": "stream",
     "text": [
      "Calculator exiting.\n"
     ]
    }
   ],
   "source": [
    "import re\n",
    "\n",
    "def calculator(expression):\n",
    "    try:\n",
    "        # Remove all characters except digits, arithmetic operators, and parentheses\n",
    "        cleaned_expression = re.sub(r'[^\\d+\\-*/().]', '', expression)\n",
    "        \n",
    "        # Evaluate the cleaned expression\n",
    "        result = eval(cleaned_expression)\n",
    "        \n",
    "        return result\n",
    "    except (SyntaxError, ZeroDivisionError, NameError) as e:\n",
    "        return f\"Error: {e}\"\n",
    "\n",
    "# Main loop\n",
    "while True:\n",
    "    user_input = input(\"Enter an expression (or 'exit' to quit): \")\n",
    "    if user_input.lower() == 'exit':\n",
    "        print(\"Calculator exiting.\")\n",
    "        break\n",
    "    \n",
    "    result = calculator(user_input)\n",
    "    print(\"Result:\", result)\n"
   ]
  },
  {
   "cell_type": "code",
   "execution_count": null,
   "id": "af16712d-35ee-45a0-a66d-700b2379c0f6",
   "metadata": {},
   "outputs": [],
   "source": []
  }
 ],
 "metadata": {
  "kernelspec": {
   "display_name": "Python 3 (ipykernel)",
   "language": "python",
   "name": "python3"
  },
  "language_info": {
   "codemirror_mode": {
    "name": "ipython",
    "version": 3
   },
   "file_extension": ".py",
   "mimetype": "text/x-python",
   "name": "python",
   "nbconvert_exporter": "python",
   "pygments_lexer": "ipython3",
   "version": "3.11.4"
  }
 },
 "nbformat": 4,
 "nbformat_minor": 5
}
